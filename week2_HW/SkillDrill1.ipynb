{
 "cells": [
  {
   "cell_type": "code",
   "execution_count": null,
   "metadata": {},
   "outputs": [],
   "source": [
    "# Import dependencies\n",
    "import pandas as pd"
   ]
  },
  {
   "cell_type": "code",
   "execution_count": null,
   "metadata": {},
   "outputs": [],
   "source": [
    "# Read file into DataFrame\n",
    "file_path = '../Resources/ratings_and_sentiments.csv'\n",
    "shop_rev_df = pd.read_csv(file_path)\n",
    "shop_rev_df"
   ]
  },
  {
   "cell_type": "code",
   "execution_count": null,
   "metadata": {},
   "outputs": [],
   "source": [
    "# Find all reviews with a number rating greater than or equal to 4.\n",
    "shop_rev_df[shop_rev_df[\"num_rating\"]>=4]"
   ]
  },
  {
   "cell_type": "code",
   "execution_count": null,
   "metadata": {},
   "outputs": [],
   "source": [
    "# Find all the coffee shops with a overall sentiment greater than or equal to 4.\n",
    "shop_rev_df[shop_rev_df[\"overall_sent\"]>=4]"
   ]
  },
  {
   "cell_type": "code",
   "execution_count": null,
   "metadata": {},
   "outputs": [],
   "source": [
    "# Return the count of the above query.\n",
    "len(shop_rev_df[shop_rev_df[\"overall_sent\"]>=4])"
   ]
  },
  {
   "cell_type": "code",
   "execution_count": null,
   "metadata": {},
   "outputs": [],
   "source": [
    "# Change the name of the review_text column to review\n",
    "shop_rev_df.rename(columns={\"review_text\":\"review\"})"
   ]
  },
  {
   "cell_type": "code",
   "execution_count": null,
   "metadata": {},
   "outputs": [],
   "source": [
    "# Change the name of the bool_HIGH column to bool_high\n",
    "shop_rev_df.rename(columns={\"bool_HIGH\":\"bool_high\"})"
   ]
  },
  {
   "cell_type": "code",
   "execution_count": null,
   "metadata": {},
   "outputs": [],
   "source": [
    "# Save your changes to the file as a pipe delimited file.\n",
    "shop_rev_df.to_csv('coffee_shop_reviews.txt', sep = '|')"
   ]
  }
 ],
 "metadata": {
  "kernelspec": {
   "display_name": "Python 3",
   "language": "python",
   "name": "python3"
  },
  "language_info": {
   "codemirror_mode": {
    "name": "ipython",
    "version": 3
   },
   "file_extension": ".py",
   "mimetype": "text/x-python",
   "name": "python",
   "nbconvert_exporter": "python",
   "pygments_lexer": "ipython3",
   "version": "3.8.8"
  }
 },
 "nbformat": 4,
 "nbformat_minor": 4
}
