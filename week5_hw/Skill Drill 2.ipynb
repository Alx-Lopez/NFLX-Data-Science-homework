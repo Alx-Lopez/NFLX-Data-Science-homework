{
 "cells": [
  {
   "cell_type": "code",
   "execution_count": null,
   "id": "57310afd",
   "metadata": {},
   "outputs": [],
   "source": [
    "import pandas as pd\n",
    "import plotly.express as px\n",
    "import scipy.stats as sts"
   ]
  },
  {
   "cell_type": "code",
   "execution_count": null,
   "id": "ceb45d77",
   "metadata": {},
   "outputs": [],
   "source": [
    "file_path = \"Resources/property_sales.csv\"\n",
    "prop_df = pd.read_csv(file_path)\n",
    "prop_df.head()"
   ]
  },
  {
   "cell_type": "code",
   "execution_count": null,
   "id": "3a683482",
   "metadata": {},
   "outputs": [],
   "source": [
    "px.histogram(prop_df,x=\"PropType\",y=\"Downpayment\")"
   ]
  },
  {
   "cell_type": "code",
   "execution_count": null,
   "id": "8ced9cb0",
   "metadata": {},
   "outputs": [],
   "source": [
    "px.histogram(prop_df,x=\"PropType\")"
   ]
  },
  {
   "cell_type": "code",
   "execution_count": null,
   "id": "1ab04fd0",
   "metadata": {},
   "outputs": [],
   "source": [
    "sample_set = prop_df.sample(n= 2000, random_state=1)\n",
    "sample_set2 = prop_df.sample(n= 2000, random_state=2)"
   ]
  },
  {
   "cell_type": "code",
   "execution_count": null,
   "id": "94b802d7",
   "metadata": {},
   "outputs": [],
   "source": [
    "px.histogram(sample_set,x=\"PropType\",y=\"Downpayment\")\n"
   ]
  },
  {
   "cell_type": "code",
   "execution_count": null,
   "id": "47c1c916",
   "metadata": {},
   "outputs": [],
   "source": [
    "px.histogram(sample_set,x=\"PropType\",y=\"Gross_Sale\")"
   ]
  },
  {
   "cell_type": "code",
   "execution_count": null,
   "id": "80fb02d7",
   "metadata": {},
   "outputs": [],
   "source": [
    "#Analysis\n",
    "> #The data does not seem to be normal as there is a large part of the data to the left.The Graphs tell us that\n",
    "> #there the residental property type has the most listings followed by condos."
   ]
  },
  {
   "cell_type": "code",
   "execution_count": null,
   "id": "22d40d63",
   "metadata": {},
   "outputs": [],
   "source": []
  }
 ],
 "metadata": {
  "kernelspec": {
   "display_name": "Python 3",
   "language": "python",
   "name": "python3"
  },
  "language_info": {
   "codemirror_mode": {
    "name": "ipython",
    "version": 3
   },
   "file_extension": ".py",
   "mimetype": "text/x-python",
   "name": "python",
   "nbconvert_exporter": "python",
   "pygments_lexer": "ipython3",
   "version": "3.8.8"
  }
 },
 "nbformat": 4,
 "nbformat_minor": 5
}
